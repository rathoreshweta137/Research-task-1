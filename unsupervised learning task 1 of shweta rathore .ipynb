{
 "cells": [
  {
   "cell_type": "code",
   "execution_count": 2,
   "id": "bd465caa",
   "metadata": {},
   "outputs": [],
   "source": [
    "import pandas as pd\n",
    "import numpy as np\n",
    "df = pd.read_csv('selfharm.csv')\n",
    "    "
   ]
  },
  {
   "cell_type": "code",
   "execution_count": 3,
   "id": "ec2e6574",
   "metadata": {},
   "outputs": [
    {
     "data": {
      "text/html": [
       "<div>\n",
       "<style scoped>\n",
       "    .dataframe tbody tr th:only-of-type {\n",
       "        vertical-align: middle;\n",
       "    }\n",
       "\n",
       "    .dataframe tbody tr th {\n",
       "        vertical-align: top;\n",
       "    }\n",
       "\n",
       "    .dataframe thead th {\n",
       "        text-align: right;\n",
       "    }\n",
       "</style>\n",
       "<table border=\"1\" class=\"dataframe\">\n",
       "  <thead>\n",
       "    <tr style=\"text-align: right;\">\n",
       "      <th></th>\n",
       "      <th>title</th>\n",
       "      <th>text</th>\n",
       "    </tr>\n",
       "  </thead>\n",
       "  <tbody>\n",
       "    <tr>\n",
       "      <th>0</th>\n",
       "      <td>Divine Intervention(TW: Depression, suicidal t...</td>\n",
       "      <td>This is a moment in my life when I felt my low...</td>\n",
       "    </tr>\n",
       "    <tr>\n",
       "      <th>1</th>\n",
       "      <td>For those who need to escape reality I found a...</td>\n",
       "      <td>\\nThe name is \"orange\". Found it on crunchyrol...</td>\n",
       "    </tr>\n",
       "    <tr>\n",
       "      <th>2</th>\n",
       "      <td>I ab*se my medicine when I'm depressed (Tw)</td>\n",
       "      <td>Title basically explains the trigger...\\n\\n\\nB...</td>\n",
       "    </tr>\n",
       "    <tr>\n",
       "      <th>3</th>\n",
       "      <td>*tw: mentions sh and depression*</td>\n",
       "      <td>Thanks to my best friend and my parents, I’m c...</td>\n",
       "    </tr>\n",
       "    <tr>\n",
       "      <th>4</th>\n",
       "      <td>Being manic and depressed at the same time is ...</td>\n",
       "      <td>Like I really want to *scream* right now, but ...</td>\n",
       "    </tr>\n",
       "  </tbody>\n",
       "</table>\n",
       "</div>"
      ],
      "text/plain": [
       "                                               title  \\\n",
       "0  Divine Intervention(TW: Depression, suicidal t...   \n",
       "1  For those who need to escape reality I found a...   \n",
       "2        I ab*se my medicine when I'm depressed (Tw)   \n",
       "3                   *tw: mentions sh and depression*   \n",
       "4  Being manic and depressed at the same time is ...   \n",
       "\n",
       "                                                text  \n",
       "0  This is a moment in my life when I felt my low...  \n",
       "1  \\nThe name is \"orange\". Found it on crunchyrol...  \n",
       "2  Title basically explains the trigger...\\n\\n\\nB...  \n",
       "3  Thanks to my best friend and my parents, I’m c...  \n",
       "4  Like I really want to *scream* right now, but ...  "
      ]
     },
     "execution_count": 3,
     "metadata": {},
     "output_type": "execute_result"
    }
   ],
   "source": [
    "#feaeture selection\n",
    "\n",
    "df = df[['title','text']]\n",
    "df.head()\n"
   ]
  },
  {
   "cell_type": "code",
   "execution_count": 5,
   "id": "21b3810a",
   "metadata": {},
   "outputs": [
    {
     "name": "stderr",
     "output_type": "stream",
     "text": [
      "[nltk_data] Downloading package stopwords to C:\\Users\\HIMANSHU\n",
      "[nltk_data]     RATHORE\\AppData\\Roaming\\nltk_data...\n",
      "[nltk_data]   Package stopwords is already up-to-date!\n"
     ]
    }
   ],
   "source": [
    "# Data cleaning \n",
    "\n",
    "import re\n",
    "import nltk\n",
    "from nltk.corpus import stopwords\n",
    "from nltk.stem import PorterStemmer\n",
    "\n",
    "nltk.download('stopwords')\n",
    "\n",
    "stop_words = set(stopwords.words('english'))\n",
    "stemmer = PorterStemmer()\n",
    "\n",
    "df['text'] = df['text'].fillna('')\n",
    "df['title'] = df['title'].fillna('')\n",
    "\n",
    "corpus = []\n",
    "\n",
    "for i in range(len(df)):\n",
    "    review = re.sub('[^a-zA-Z]', ' ', str(df.iloc[i,0]) + ' ' + str(df.iloc[i,1]))\n",
    "    review = review.lower()\n",
    "    review = review.split()\n",
    "    review = [stemmer.stem(word) for word in review if not word in stop_words]\n",
    "    review = ' '.join(review)\n",
    "    corpus.append(review)\n",
    "\n"
   ]
  },
  {
   "cell_type": "code",
   "execution_count": 7,
   "id": "d8d33b28",
   "metadata": {},
   "outputs": [
    {
     "data": {
      "text/html": [
       "<div>\n",
       "<style scoped>\n",
       "    .dataframe tbody tr th:only-of-type {\n",
       "        vertical-align: middle;\n",
       "    }\n",
       "\n",
       "    .dataframe tbody tr th {\n",
       "        vertical-align: top;\n",
       "    }\n",
       "\n",
       "    .dataframe thead th {\n",
       "        text-align: right;\n",
       "    }\n",
       "</style>\n",
       "<table border=\"1\" class=\"dataframe\">\n",
       "  <thead>\n",
       "    <tr style=\"text-align: right;\">\n",
       "      <th></th>\n",
       "      <th>title</th>\n",
       "      <th>text</th>\n",
       "      <th>sentiment</th>\n",
       "    </tr>\n",
       "  </thead>\n",
       "  <tbody>\n",
       "    <tr>\n",
       "      <th>0</th>\n",
       "      <td>Divine Intervention(TW: Depression, suicidal t...</td>\n",
       "      <td>This is a moment in my life when I felt my low...</td>\n",
       "      <td>-0.116667</td>\n",
       "    </tr>\n",
       "    <tr>\n",
       "      <th>1</th>\n",
       "      <td>For those who need to escape reality I found a...</td>\n",
       "      <td>\\nThe name is \"orange\". Found it on crunchyrol...</td>\n",
       "      <td>0.109207</td>\n",
       "    </tr>\n",
       "    <tr>\n",
       "      <th>2</th>\n",
       "      <td>I ab*se my medicine when I'm depressed (Tw)</td>\n",
       "      <td>Title basically explains the trigger...\\n\\n\\nB...</td>\n",
       "      <td>0.130000</td>\n",
       "    </tr>\n",
       "    <tr>\n",
       "      <th>3</th>\n",
       "      <td>*tw: mentions sh and depression*</td>\n",
       "      <td>Thanks to my best friend and my parents, I’m c...</td>\n",
       "      <td>0.173333</td>\n",
       "    </tr>\n",
       "    <tr>\n",
       "      <th>4</th>\n",
       "      <td>Being manic and depressed at the same time is ...</td>\n",
       "      <td>Like I really want to *scream* right now, but ...</td>\n",
       "      <td>-0.055655</td>\n",
       "    </tr>\n",
       "  </tbody>\n",
       "</table>\n",
       "</div>"
      ],
      "text/plain": [
       "                                               title  \\\n",
       "0  Divine Intervention(TW: Depression, suicidal t...   \n",
       "1  For those who need to escape reality I found a...   \n",
       "2        I ab*se my medicine when I'm depressed (Tw)   \n",
       "3                   *tw: mentions sh and depression*   \n",
       "4  Being manic and depressed at the same time is ...   \n",
       "\n",
       "                                                text  sentiment  \n",
       "0  This is a moment in my life when I felt my low...  -0.116667  \n",
       "1  \\nThe name is \"orange\". Found it on crunchyrol...   0.109207  \n",
       "2  Title basically explains the trigger...\\n\\n\\nB...   0.130000  \n",
       "3  Thanks to my best friend and my parents, I’m c...   0.173333  \n",
       "4  Like I really want to *scream* right now, but ...  -0.055655  "
      ]
     },
     "execution_count": 7,
     "metadata": {},
     "output_type": "execute_result"
    }
   ],
   "source": [
    "# Sentiment analyisis \n",
    "from textblob import TextBlob\n",
    "\n",
    "sentiments = []\n",
    "\n",
    "for text in corpus:\n",
    "    blob = TextBlob(text)\n",
    "    sentiments.append(blob.sentiment.polarity)\n",
    "\n",
    "df['sentiment'] = sentiments\n",
    "df.head()"
   ]
  },
  {
   "cell_type": "code",
   "execution_count": 10,
   "id": "ab9d7606",
   "metadata": {},
   "outputs": [
    {
     "name": "stdout",
     "output_type": "stream",
     "text": [
      "Topic 0 ['cut', 'know', 'get', 'go', 'like', 'time', 'want', 'day', 'start', 'realli']\n",
      "Topic 1 ['wanna', 'cut', 'wanna cut', 'cut wanna', 'http', 'com', 'http www', 'www', 'http youtu', 'youtu']\n",
      "Topic 2 ['cut', 'feel', 'like', 'time', 'trigger', 'realli', 'trigger warn', 'warn', 'first', 'sh']\n",
      "Topic 3 ['feel', 'want', 'like', 'im', 'feel like', 'know', 'cut', 'fuck', 'get', 'think']\n",
      "Topic 4 ['self', 'harm', 'self harm', 'trigger', 'warn', 'know', 'scar', 'trigger warn', 'like', 'peopl']\n"
     ]
    }
   ],
   "source": [
    "#topic modeling \n",
    "\n",
    "from sklearn.feature_extraction.text import CountVectorizer\n",
    "from sklearn.decomposition import LatentDirichletAllocation\n",
    "\n",
    "vectorizer = CountVectorizer(max_features=1000, ngram_range=(1,2))\n",
    "X = vectorizer.fit_transform(corpus)\n",
    "\n",
    "lda = LatentDirichletAllocation(n_components=5, random_state=42)\n",
    "lda.fit(X)\n",
    "\n",
    "feature_names = vectorizer.get_feature_names_out()\n",
    "topics = {}\n",
    "\n",
    "for i, topic in enumerate(lda.components_):\n",
    "    topic_words = [feature_names[j] for j in topic.argsort()[:-11:-1]]\n",
    "    topics['Topic {}'.format(i)] = topic_words\n",
    "\n",
    "for key, value in topics.items():\n",
    "    print(key,value)"
   ]
  },
  {
   "cell_type": "code",
   "execution_count": 11,
   "id": "e2917995",
   "metadata": {},
   "outputs": [
    {
     "data": {
      "image/png": "[encoded data removed]",
      "text/plain": [
       "<Figure size 640x480 with 1 Axes>"
      ]
     },
     "metadata": {},
     "output_type": "display_data"
    },
    {
     "data": {
      "image/png": "[encoded data removed]",
      "text/plain": [
       "<Figure size 640x480 with 1 Axes>"
      ]
     },
     "metadata": {},
     "output_type": "display_data"
    }
   ],
   "source": [
    "#CLUSTERLINGG\n",
    "\n",
    "from sklearn.cluster import KMeans\n",
    "import matplotlib.pyplot as plt\n",
    "\n",
    "kmeans = KMeans(n_clusters=5, random_state=42)\n",
    "kmeans.fit(X)\n",
    "\n",
    "df['cluster'] = kmeans.predict(X)\n",
    "\n",
    "plt.scatter(df['sentiment'], df['cluster'])\n",
    "plt.xlabel('Sentiment')\n",
    "plt.ylabel('Cluster')\n",
    "plt.show()\n",
    "\n",
    "plt.scatter(df['cluster'], df['sentiment'])\n",
    "plt.xlabel('Cluster')\n",
    "plt.ylabel('Sentiment')\n",
    "plt.show()"
   ]
  },
  {
   "cell_type": "code",
   "execution_count": null,
   "id": "81ce5eaa",
   "metadata": {},
   "outputs": [],
   "source": []
  }
 ],
 "metadata": {
  "kernelspec": {
   "display_name": "Python 3 (ipykernel)",
   "language": "python",
   "name": "python3"
  },
  "language_info": {
   "codemirror_mode": {
    "name": "ipython",
    "version": 3
   },
   "file_extension": ".py",
   "mimetype": "text/x-python",
   "name": "python",
   "nbconvert_exporter": "python",
   "pygments_lexer": "ipython3",
   "version": "3.8.5"
  }
 },
 "nbformat": 4,
 "nbformat_minor": 5
}
